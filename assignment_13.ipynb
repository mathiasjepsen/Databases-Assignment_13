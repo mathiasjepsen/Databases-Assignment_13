{
 "cells": [
  {
   "cell_type": "markdown",
   "metadata": {},
   "source": [
    "# Assignment 13"
   ]
  },
  {
   "cell_type": "markdown",
   "metadata": {},
   "source": [
    "## Neo4J"
   ]
  },
  {
   "cell_type": "code",
   "execution_count": 218,
   "metadata": {},
   "outputs": [
    {
     "name": "stdout",
     "output_type": "stream",
     "text": [
      "d9ca9fa013328dc08d3aff6a947b9dc26545a3367a796d6765f723e7a25146ea\n"
     ]
    }
   ],
   "source": [
    "%%bash\n",
    "docker run \\\n",
    "    -d --name neo4j \\\n",
    "    -v \"$(pwd)/dbfiles:/var/lib/neo4j/import/dbfiles\" \\\n",
    "    --rm \\\n",
    "    --publish=7474:7474 \\\n",
    "    --publish=7687:7687 \\\n",
    "    --env NEO4J_AUTH=neo4j/fancy!99Doorknob \\\n",
    "    neo4j\n",
    "\n",
    "#  --env=NEO4J_dbms_memory_pagecache_size=1G \\\n",
    "#    --env=NEO4J_dbms_memory_heap_initial_size=1G \\\n",
    "#    --env=NEO4J_dbms_memory_heap_max_size=1G \\"
   ]
  },
  {
   "cell_type": "code",
   "execution_count": 220,
   "metadata": {},
   "outputs": [
    {
     "data": {
      "text/plain": [
       "'done'"
      ]
     },
     "execution_count": 220,
     "metadata": {},
     "output_type": "execute_result"
    }
   ],
   "source": [
    "import sys\n",
    "from neo4j import GraphDatabase\n",
    "\n",
    "uri = \"bolt://localhost:7687\"\n",
    "auth=(\"neo4j\", \"fancy!99Doorknob\")\n",
    "driver = GraphDatabase.driver(uri, auth=auth)\n",
    "\n",
    "def neo(command):\n",
    "    try:\n",
    "        with driver.session() as session:\n",
    "            result = session.run(command)\n",
    "        return result # result is a resultset/cursor for neo4j\n",
    "    except Exception as ex:\n",
    "        print(str(ex), file=sys.stderr)\n",
    "        \n",
    "def neov(command):\n",
    "    try:\n",
    "        return neo(command).values()\n",
    "    except Exception as ex:\n",
    "        return 'Shit happened'\n",
    "\"done\""
   ]
  },
  {
   "cell_type": "markdown",
   "metadata": {},
   "source": [
    "## MySQL"
   ]
  },
  {
   "cell_type": "code",
   "execution_count": 206,
   "metadata": {},
   "outputs": [
    {
     "name": "stdout",
     "output_type": "stream",
     "text": [
      "b14b66e6071e2333ebb54ae8b3858893659285f844a86c92522ae9e20192fea8\n"
     ]
    }
   ],
   "source": [
    "%%bash\n",
    "docker run \\\n",
    "    --rm \\\n",
    "    --name my_mysql \\\n",
    "    -v \"$(pwd)/mysql_dbfiles:/var/lib/mysql\" \\\n",
    "    -p 3307:3307 \\\n",
    "    -e MYSQL_ROOT_PASSWORD=deterentysker!42snapsnap \\\n",
    "    -d \\\n",
    "    mysql"
   ]
  },
  {
   "cell_type": "code",
   "execution_count": 213,
   "metadata": {},
   "outputs": [
    {
     "ename": "ModuleNotFoundError",
     "evalue": "No module named 'mysql'",
     "output_type": "error",
     "traceback": [
      "\u001b[0;31m---------------------------------------------------------------------------\u001b[0m",
      "\u001b[0;31mModuleNotFoundError\u001b[0m                       Traceback (most recent call last)",
      "\u001b[0;32m<ipython-input-213-efa70ee8919c>\u001b[0m in \u001b[0;36m<module>\u001b[0;34m\u001b[0m\n\u001b[1;32m      1\u001b[0m \u001b[0;32mimport\u001b[0m \u001b[0msys\u001b[0m\u001b[0;34m\u001b[0m\u001b[0;34m\u001b[0m\u001b[0m\n\u001b[0;32m----> 2\u001b[0;31m \u001b[0;32mimport\u001b[0m \u001b[0mmysql\u001b[0m\u001b[0;34m.\u001b[0m\u001b[0mconnector\u001b[0m\u001b[0;34m\u001b[0m\u001b[0;34m\u001b[0m\u001b[0m\n\u001b[0m\u001b[1;32m      3\u001b[0m \u001b[0;34m\u001b[0m\u001b[0m\n\u001b[1;32m      4\u001b[0m \u001b[0;32mdef\u001b[0m \u001b[0mrootconnect\u001b[0m\u001b[0;34m(\u001b[0m\u001b[0;34m)\u001b[0m\u001b[0;34m:\u001b[0m\u001b[0;34m\u001b[0m\u001b[0;34m\u001b[0m\u001b[0m\n\u001b[1;32m      5\u001b[0m     \u001b[0;32mtry\u001b[0m\u001b[0;34m:\u001b[0m\u001b[0;34m\u001b[0m\u001b[0;34m\u001b[0m\u001b[0m\n",
      "\u001b[0;31mModuleNotFoundError\u001b[0m: No module named 'mysql'"
     ]
    }
   ],
   "source": [
    "import sys\n",
    "import mysql.connector\n",
    "\n",
    "def rootconnect():\n",
    "    try:\n",
    "        pw = 'deterentysker!42snapsnap'\n",
    "        conn = mysql.connector.connect( host='localhost', database='copenhagen',user='root', password=pw)\n",
    "        conn.autocommit = True\n",
    "        return conn;\n",
    "    except Exception as ex:\n",
    "        print(str(ex), file=sys.stderr)\n",
    "    \n",
    "\n",
    "conn = rootconnect()\n",
    "\n",
    "def sqlQuery(sqlString):\n",
    "    global conn\n",
    "    try:\n",
    "        if not conn.is_connected():\n",
    "            conn = rootconnect()\n",
    "        cursor = conn.cursor()\n",
    "        cursor.execute(sqlString)\n",
    "        res = cursor.fetchall()\n",
    "        return res\n",
    "    except Exception as ex:\n",
    "        print(str(ex), file=sys.stderr)\n",
    "    finally:    \n",
    "        cursor.close()"
   ]
  },
  {
   "cell_type": "code",
   "execution_count": 223,
   "metadata": {},
   "outputs": [
    {
     "data": {
      "text/plain": [
       "[]"
      ]
     },
     "execution_count": 223,
     "metadata": {},
     "output_type": "execute_result"
    }
   ],
   "source": [
    "neov('''\n",
    "LOAD CSV WITH HEADERS FROM \"file:///dbfiles/social_network_nodes_small.csv\" AS row\n",
    "MERGE (:User {id: row.node_id,\n",
    "                  name: row.name,\n",
    "                  job: row.job,\n",
    "                  birthday: row.birthday})\n",
    "CREATE INDEX ON :User(id)\n",
    "''')"
   ]
  },
  {
   "cell_type": "code",
   "execution_count": 224,
   "metadata": {},
   "outputs": [
    {
     "data": {
      "text/plain": [
       "[]"
      ]
     },
     "execution_count": 224,
     "metadata": {},
     "output_type": "execute_result"
    }
   ],
   "source": [
    "neov('''\n",
    "LOAD CSV WITH HEADERS FROM \"file:///dbfiles/social_network_edges_small.csv\" AS row\n",
    "MATCH (source_user:User)\n",
    "WHERE source_user.id = row.source_node_id\n",
    "MATCH (target_user:User)\n",
    "WHERE target_user.id = row.target_node_id\n",
    "MERGE (source_user)-[endorsement:ENDORSES]->(target_user)\n",
    "''')"
   ]
  },
  {
   "cell_type": "code",
   "execution_count": 313,
   "metadata": {},
   "outputs": [
    {
     "data": {
      "text/plain": [
       "[[5427]]"
      ]
     },
     "execution_count": 313,
     "metadata": {},
     "output_type": "execute_result"
    }
   ],
   "source": [
    "neov('''\n",
    "MATCH (u:User)-[:ENDORSES]->(t:User)-[:ENDORSES]->(t2:User)-[:ENDORSES]->(t3:User)-[:ENDORSES]->(t4:User)-[:ENDORSES]->(t5:User)\n",
    "WHERE t.id = \"173\"\n",
    "RETURN count(*)\n",
    "''')"
   ]
  },
  {
   "cell_type": "code",
   "execution_count": 312,
   "metadata": {},
   "outputs": [
    {
     "name": "stdout",
     "output_type": "stream",
     "text": [
      "{1: [0.10562692099847482, 0.15403635099937674, 0.04964630200265674, 0.036589115999959176, 0.03224448100081645, 0.036095171999477316, 0.04207768099877285, 0.03419118799865828, 0.03324711800087243, 0.03556467699672794, 0.04525495299822069, 0.03589328099769773, 0.03901659400071367, 0.03158983899993473, 0.03229630400164751, 0.03302151099705952, 0.035677659998327726, 0.0317809269981808, 0.03167588599899318, 0.0413900619969354], 2: [0.03210382700126502, 0.053268482002749806, 0.0349928390023706, 0.028926199996931246, 0.035924274001445156, 0.03143623300275067, 0.030597558001318248, 0.03212376599913114, 0.029524656001740368, 0.055941022001206875, 0.04999104099988472, 0.03635705800115829, 0.038064332999056205, 0.12677659999826574, 0.1584704220003914, 0.04283816400129581, 0.03838394400008838, 0.025223689000995364, 0.02680109100037953, 0.03701365699816961], 3: [0.04226076099803322, 0.17370660999949905, 0.15307208800004446, 0.03169504900142783, 0.11278296800082899, 0.08345403100247495, 0.0859918860005564, 0.05836550100138993, 0.037320460000046296, 0.07876222699997015, 0.05105778000142891, 0.0668919809977524, 0.0822438190007233, 0.08512599399909959, 0.09121027999935905, 0.05293543299922021, 0.0607078309985809, 0.03454306799903861, 0.040239763002318796, 0.04940295099731884], 4: [0.03435995900144917, 0.29078011399906245, 0.15395503800027655, 0.031183032002445543, 0.24755763500070316, 0.27211359700231696, 0.24259857600191026, 0.12425510400134954, 0.02939110800070921, 0.07079051899927435, 0.05285682099929545, 0.03988082299838425, 0.04500614600328845, 0.05753783799809753, 0.05367564100015443, 0.03469928000049549, 0.038211455997952726, 0.02337199000248802, 0.025179932999890298, 0.03615306400024565], 5: [0.024079520000668708, 0.3810996009997325, 0.2643829789994925, 0.02401839500089409, 0.4357789059977222, 0.38763987499987707, 0.3724051539975335, 0.2667087170011655, 0.18941904099847306, 0.45621430200117175, 0.34229444800075726, 0.2502146670012735, 0.2798713169977418, 0.32573038099872065, 0.3260769659973448, 0.2777469789980387, 0.2494273640004394, 0.024040642998443218, 0.025254357999074273, 0.23059679300058633]}\n"
     ]
    }
   ],
   "source": [
    "import random\n",
    "import timeit\n",
    "\n",
    "\n",
    "def select_twenty_random_nodes(seed):\n",
    "    random.seed(seed)\n",
    "    \n",
    "    ids = [user_id[0] for user_id in neov('''\n",
    "        MATCH (user:User)\n",
    "        RETURN user.id\n",
    "    ''')]\n",
    "    \n",
    "    return random.choices(ids, k=20)\n",
    "\n",
    "\n",
    "def run_query(depth_level, user_id):\n",
    "     neov(f'''\n",
    "        MATCH (u:User)-[:ENDORSES]->(t1:User){depth_level}\n",
    "        WHERE t1.id = '{user_id}'\n",
    "        RETURN count(*)\n",
    "     ''')\n",
    "\n",
    "        \n",
    "def run_endorsement_queries(seed):\n",
    "    random_ids = select_twenty_random_nodes(seed)\n",
    "    depth_counts = {}\n",
    "    \n",
    "    for depth in range(1, 6):\n",
    "        for user_id in random_ids:\n",
    "            test = range(int(depth) - 1)\n",
    "            depth_level = \"\".join([f\"-[:ENDORSES]->(t{idx + 2}:User)\" for _, idx in enumerate(test)])\n",
    "            \n",
    "            time = timeit.Timer(lambda: run_query(depth_level, user_id))\n",
    "            depth_counts.setdefault(depth, []).append(time.timeit(10))\n",
    "    \n",
    "    return depth_counts\n",
    "\n",
    "\n",
    "print(run_endorsement_queries(10))"
   ]
  }
 ],
 "metadata": {
  "kernelspec": {
   "display_name": "Python 3",
   "language": "python",
   "name": "python3"
  },
  "language_info": {
   "codemirror_mode": {
    "name": "ipython",
    "version": 3
   },
   "file_extension": ".py",
   "mimetype": "text/x-python",
   "name": "python",
   "nbconvert_exporter": "python",
   "pygments_lexer": "ipython3",
   "version": "3.7.1"
  }
 },
 "nbformat": 4,
 "nbformat_minor": 2
}
